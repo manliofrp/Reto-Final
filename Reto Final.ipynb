{
 "cells": [
  {
   "cell_type": "code",
   "execution_count": 1,
   "metadata": {},
   "outputs": [],
   "source": [
    "#Importamos las librerias pandas, numpy y matplotlib respectivamente\n",
    "import pandas as pd\n",
    "import numpy as np\n",
    "import matplotlib.pyplot as plt"
   ]
  },
  {
   "cell_type": "code",
   "execution_count": null,
   "metadata": {},
   "outputs": [],
   "source": [
    "#Carga desde un archivo .csv sin indice\n",
    "ct= pd.read_csv('CountryTable.csv') \n",
    "ct"
   ]
  },
  {
   "cell_type": "code",
   "execution_count": null,
   "metadata": {},
   "outputs": [],
   "source": [
    "valores_nulos=ct.isnull().sum()\n",
    "valores_nulos"
   ]
  },
  {
   "cell_type": "code",
   "execution_count": 5,
   "metadata": {},
   "outputs": [],
   "source": [
    "#Realizamos una copia del dataframe\n",
    "cct=ct.copy()"
   ]
  },
  {
   "cell_type": "code",
   "execution_count": null,
   "metadata": {},
   "outputs": [],
   "source": [
    "#Sustituir valores nulos con promedio o media\n",
    "cct[\"life_expectancy\"]=cct[\"life_expectancy\"].fillna(round(cct[\"life_expectancy\"].mean(),1))\n",
    "cct"
   ]
  },
  {
   "cell_type": "code",
   "execution_count": null,
   "metadata": {},
   "outputs": [],
   "source": [
    "#Sustituir valores nulos con mediana\n",
    "cct[\"gnp_old\"]=cct[\"gnp_old\"].fillna(round(cct[\"gnp_old\"].median(),1))\n",
    "cct"
   ]
  },
  {
   "cell_type": "code",
   "execution_count": null,
   "metadata": {},
   "outputs": [],
   "source": [
    "#Sustituir valores nulos por un valor numérico en  concreto \n",
    "#Filtro por columnas\n",
    "cct[\"independence_year\"]= cct[\"independence_year\"].fillna(1900) \n",
    "cct\n"
   ]
  },
  {
   "cell_type": "code",
   "execution_count": null,
   "metadata": {},
   "outputs": [],
   "source": [
    "#Sustituir valores nulos por un string en  concreto \n",
    "#Filtro por columnas\n",
    "cct[\"local_name\"] =cct[\"local_name\"].fillna(\"Inexistente\") \n",
    "cct"
   ]
  },
  {
   "cell_type": "code",
   "execution_count": null,
   "metadata": {},
   "outputs": [],
   "source": [
    "#Sustituir valores nulos por un string en  concreto \n",
    "#Filtro por columnas\n",
    "cct[\"head_of_state\"] =cct[\"head_of_state\"].fillna(\"Desconocido\") \n",
    "cct"
   ]
  },
  {
   "cell_type": "code",
   "execution_count": null,
   "metadata": {},
   "outputs": [],
   "source": [
    "#Sustituir valores nulos por un valor numérico en  concreto \n",
    "#Filtro por columnas\n",
    "cct[\"capital\"]= cct[\"capital\"].fillna(0) \n",
    "cct"
   ]
  },
  {
   "cell_type": "code",
   "execution_count": null,
   "metadata": {},
   "outputs": [],
   "source": [
    "#Sustituir valores nulos por un string en  concreto \n",
    "#Filtro por columnas\n",
    "cct[\"code2\"] =cct[\"code2\"].fillna(\"NA\") \n",
    "cct"
   ]
  },
  {
   "cell_type": "code",
   "execution_count": 20,
   "metadata": {},
   "outputs": [
    {
     "data": {
      "text/plain": [
       "code                 0\n",
       "name                 0\n",
       "continent            0\n",
       "region               0\n",
       "surface_area         0\n",
       "independence_year    0\n",
       "population           0\n",
       "life_expectancy      0\n",
       "gnp                  0\n",
       "gnp_old              0\n",
       "local_name           0\n",
       "government_form      0\n",
       "head_of_state        0\n",
       "capital              0\n",
       "code2                0\n",
       "dtype: int64"
      ]
     },
     "execution_count": 20,
     "metadata": {},
     "output_type": "execute_result"
    }
   ],
   "source": [
    "#Corroboramos valores nulos\n",
    "valores_nulos=cct.isnull().sum()\n",
    "valores_nulos"
   ]
  },
  {
   "cell_type": "code",
   "execution_count": null,
   "metadata": {},
   "outputs": [],
   "source": [
    "#Método aplicando desviación estandar. Encuentro los valores extremos\n",
    "y=cct[\"gnp_old\"]\n",
    "Limite_Superior= y.mean() + 3*y.std()\n",
    "Limite_Inferior= y.mean() - 3*y.std()\n",
    "print(\"Limite superior permitido\", Limite_Superior)\n",
    "print(\"Limite inferior permitido\", Limite_Inferior)"
   ]
  },
  {
   "cell_type": "code",
   "execution_count": null,
   "metadata": {},
   "outputs": [],
   "source": [
    "#Encontramos Ouliers\n",
    "outliers= cct[(y>Limite_Superior)|(y<Limite_Inferior)]\n",
    "outliers"
   ]
  },
  {
   "cell_type": "code",
   "execution_count": null,
   "metadata": {},
   "outputs": [],
   "source": [
    "#Obtenemos datos limpios\n",
    "data_clean= cct[(y<=Limite_Superior)&(y>=Limite_Inferior)]\n",
    "data_clean"
   ]
  },
  {
   "cell_type": "code",
   "execution_count": null,
   "metadata": {},
   "outputs": [],
   "source": [
    "#Realizamos diagrama de caja o bigote\n",
    "fig = plt.figure(figsize =(5, 3))\n",
    "plt.boxplot(data_clean[\"gnp_old\"]) \n",
    "plt.title(\"Outliers de GNP OLD\")\n",
    "plt.show() #dibujamos el diagrama"
   ]
  },
  {
   "cell_type": "code",
   "execution_count": null,
   "metadata": {},
   "outputs": [],
   "source": [
    "#Método aplicando desviación estandar. Encuentro los valores extremos\n",
    "y=cct[\"population\"]\n",
    "Limite_Superior= y.mean() + 3*y.std()\n",
    "Limite_Inferior= y.mean() - 3*y.std()\n",
    "print(\"Limite superior permitido\", Limite_Superior)\n",
    "print(\"Limite inferior permitido\", Limite_Inferior)"
   ]
  },
  {
   "cell_type": "code",
   "execution_count": null,
   "metadata": {},
   "outputs": [],
   "source": [
    "#Encontramos Ouliers\n",
    "outliers1= cct[(y>Limite_Superior)|(y<Limite_Inferior)]\n",
    "outliers1"
   ]
  },
  {
   "cell_type": "code",
   "execution_count": null,
   "metadata": {},
   "outputs": [],
   "source": [
    "#Obtenemos datos limpios\n",
    "data_clean1= cct[(y<=Limite_Superior)&(y>=Limite_Inferior)]\n",
    "data_clean1"
   ]
  },
  {
   "cell_type": "code",
   "execution_count": null,
   "metadata": {},
   "outputs": [],
   "source": [
    "#Realizamos diagrama de caja o bigote\n",
    "fig = plt.figure(figsize =(5, 3))\n",
    "plt.boxplot(data_clean1[\"population\"]) \n",
    "plt.title(\"Outliers de POPULATION\")\n",
    "plt.show() #dibujamos el diagrama"
   ]
  },
  {
   "cell_type": "code",
   "execution_count": null,
   "metadata": {},
   "outputs": [],
   "source": [
    "#Método aplicando Cuartiles. Encuentro cuartiles 0.25 y 0.75\n",
    "y=cct[\"gnp_old\"]\n",
    "\n",
    "percentile25=y.quantile(0.25) #Q1\n",
    "percentile75=y.quantile(0.75) #Q3\n",
    "iqr= percentile75 - percentile25\n",
    "\n",
    "Limite_Superior_iqr= percentile75 + 1.3*iqr\n",
    "Limite_Inferior_iqr= percentile25 - 1.3*iqr\n",
    "print(\"Limite superior permitido\", Limite_Superior_iqr)\n",
    "print(\"Limite inferior permitido\", Limite_Inferior_iqr)"
   ]
  },
  {
   "cell_type": "code",
   "execution_count": null,
   "metadata": {},
   "outputs": [],
   "source": [
    "#Encontramos Ouliers\n",
    "outliers_iqr= cct[(y>Limite_Superior_iqr)|(y<Limite_Inferior_iqr)]\n",
    "outliers_iqr"
   ]
  },
  {
   "cell_type": "code",
   "execution_count": null,
   "metadata": {},
   "outputs": [],
   "source": [
    "#Obtenemos datos limpios\n",
    "data_clean_iqr= cct[(y<=Limite_Superior_iqr)&(y>=Limite_Inferior_iqr)]\n",
    "data_clean_iqr"
   ]
  },
  {
   "cell_type": "code",
   "execution_count": null,
   "metadata": {},
   "outputs": [],
   "source": [
    "#Realizamos diagrama de caja o bigote\n",
    "fig = plt.figure(figsize =(5, 3))\n",
    "plt.boxplot(data_clean_iqr[\"gnp_old\"]) \n",
    "plt.title(\"Outliers de GNP OLD\")\n",
    "plt.show() #dibujamos el diagrama"
   ]
  },
  {
   "cell_type": "code",
   "execution_count": null,
   "metadata": {},
   "outputs": [],
   "source": [
    "#Método aplicando Cuartiles. Encuentro cuartiles 0.25 y 0.75\n",
    "s=cct[\"surface_area\"]\n",
    "\n",
    "percentile25=y.quantile(0.25) #Q1\n",
    "percentile75=y.quantile(0.75) #Q3\n",
    "iqr= percentile75 - percentile25\n",
    "\n",
    "Limite_Superior_iqr= percentile75 + 1.3*iqr\n",
    "Limite_Inferior_iqr= percentile25 - 1.3*iqr\n",
    "print(\"Limite superior permitido\", Limite_Superior_iqr)\n",
    "print(\"Limite inferior permitido\", Limite_Inferior_iqr)"
   ]
  },
  {
   "cell_type": "code",
   "execution_count": null,
   "metadata": {},
   "outputs": [],
   "source": [
    "#Encontramos Ouliers\n",
    "outliers1_iqr= cct[(s>Limite_Superior_iqr)|(s<Limite_Inferior_iqr)]\n",
    "outliers1_iqr"
   ]
  },
  {
   "cell_type": "code",
   "execution_count": null,
   "metadata": {},
   "outputs": [],
   "source": [
    "#Obtenemos datos limpios\n",
    "data_clean1_iqr= cct[(s<=Limite_Superior_iqr)&(s>=Limite_Inferior_iqr)]\n",
    "data_clean1_iqr"
   ]
  },
  {
   "cell_type": "code",
   "execution_count": null,
   "metadata": {},
   "outputs": [],
   "source": [
    "#Realizamos diagrama de caja o bigote\n",
    "fig = plt.figure(figsize =(5, 3))\n",
    "plt.boxplot(data_clean1_iqr[\"surface_area\"]) \n",
    "plt.title(\"Outliers de SURFACE AREA\")\n",
    "plt.show() #dibujamos el diagrama"
   ]
  },
  {
   "cell_type": "code",
   "execution_count": null,
   "metadata": {},
   "outputs": [],
   "source": [
    "#Método aplicando Cuartiles. Encuentro cuartiles 0.25 y 0.75\n",
    "le=cct[\"life_expectancy\"]\n",
    "\n",
    "percentile25=le.quantile(0.25) #Q1\n",
    "percentile75=le.quantile(0.75) #Q3\n",
    "iqr= percentile75 - percentile25\n",
    "\n",
    "Limite_Superior_iqr= percentile75 + 1.3*iqr\n",
    "Limite_Inferior_iqr= percentile25 - 1.3*iqr\n",
    "print(\"Limite superior permitido\", Limite_Superior_iqr)\n",
    "print(\"Limite inferior permitido\", Limite_Inferior_iqr)"
   ]
  },
  {
   "cell_type": "code",
   "execution_count": null,
   "metadata": {},
   "outputs": [],
   "source": [
    "#Encontramos Ouliers\n",
    "outliers2_iqr= cct[(le>Limite_Superior_iqr)|(le<Limite_Inferior_iqr)]\n",
    "outliers2_iqr"
   ]
  },
  {
   "cell_type": "code",
   "execution_count": null,
   "metadata": {},
   "outputs": [],
   "source": [
    "#Obtenemos datos limpios\n",
    "data_clean2_iqr= cct[(le<=Limite_Superior_iqr)&(le>=Limite_Inferior_iqr)]\n",
    "data_clean2_iqr"
   ]
  },
  {
   "cell_type": "code",
   "execution_count": null,
   "metadata": {},
   "outputs": [],
   "source": [
    "#Realizamos diagrama de caja o bigote\n",
    "fig = plt.figure(figsize =(5, 3))\n",
    "plt.boxplot(data_clean2_iqr[\"life_expectancy\"]) \n",
    "plt.title(\"Outliers de LIFE EXPECTANCY\")\n",
    "plt.show() #dibujamos el diagrama"
   ]
  },
  {
   "cell_type": "code",
   "execution_count": null,
   "metadata": {},
   "outputs": [],
   "source": [
    "#Método aplicando Cuartiles. Encuentro cuartiles 0.25 y 0.75\n",
    "p=cct[\"population\"]\n",
    "\n",
    "percentile25=p.quantile(0.25) #Q1\n",
    "percentile75=p.quantile(0.75) #Q3\n",
    "iqr= percentile75 - percentile25\n",
    "\n",
    "Limite_Superior_iqr= percentile75 + 1.3*iqr\n",
    "Limite_Inferior_iqr= percentile25 - 1.3*iqr\n",
    "print(\"Limite superior permitido\", Limite_Superior_iqr)\n",
    "print(\"Limite inferior permitido\", Limite_Inferior_iqr)"
   ]
  },
  {
   "cell_type": "code",
   "execution_count": null,
   "metadata": {},
   "outputs": [],
   "source": [
    "#Encontramos Ouliers\n",
    "outliers3_iqr= cct[(p>Limite_Superior_iqr)|(p<Limite_Inferior_iqr)]\n",
    "outliers3_iqr"
   ]
  },
  {
   "cell_type": "code",
   "execution_count": null,
   "metadata": {},
   "outputs": [],
   "source": [
    "#Obtenemos datos limpios\n",
    "data_clean3_iqr= cct[(p<=Limite_Superior_iqr)&(p>=Limite_Inferior_iqr)]\n",
    "data_clean3_iqr"
   ]
  },
  {
   "cell_type": "code",
   "execution_count": null,
   "metadata": {},
   "outputs": [],
   "source": [
    "#Realizamos diagrama de caja o bigote\n",
    "fig = plt.figure(figsize =(5, 3))\n",
    "plt.boxplot(data_clean3_iqr[\"population\"]) \n",
    "plt.title(\"Outliers de POPULATION\")\n",
    "plt.show() #dibujamos el diagrama"
   ]
  }
 ],
 "metadata": {
  "kernelspec": {
   "display_name": "Python 3.10.6 64-bit",
   "language": "python",
   "name": "python3"
  },
  "language_info": {
   "codemirror_mode": {
    "name": "ipython",
    "version": 3
   },
   "file_extension": ".py",
   "mimetype": "text/x-python",
   "name": "python",
   "nbconvert_exporter": "python",
   "pygments_lexer": "ipython3",
   "version": "3.10.6"
  },
  "orig_nbformat": 4,
  "vscode": {
   "interpreter": {
    "hash": "3c7407a0676a81ad5d5c697734f94220fc40457a1c05cf718afd929391080bf5"
   }
  }
 },
 "nbformat": 4,
 "nbformat_minor": 2
}
